{
 "cells": [
  {
   "cell_type": "code",
   "execution_count": 1,
   "id": "0f21966e",
   "metadata": {},
   "outputs": [],
   "source": [
    "import pyodbc\n",
    "import pandas as pd"
   ]
  },
  {
   "cell_type": "code",
   "execution_count": 2,
   "id": "c5f42484",
   "metadata": {},
   "outputs": [],
   "source": [
    "import leafmap\n",
    "import os\n",
    "import geopandas as gpd"
   ]
  },
  {
   "cell_type": "code",
   "execution_count": null,
   "id": "25f2cdf3",
   "metadata": {},
   "outputs": [],
   "source": [
    "#conn = pyodbc.connect(\"Driver={SQL Server};Server=KLUNST\\SQLEXPRESS;UID=clnuser;PWD=usr@Cln;Database=AWSv4;Trusted_Connection=yes;\")\n",
    "cnxn_str = (\"Driver={SQL Server Native Client 11.0};\"\n",
    "            \"Server=KLUNST\\SQLEXPRESS;\"\n",
    "            \"Database=AWSv4;\"\n",
    "            \"UID=clnuser;\"\n",
    "            \"PWD=usr@Cln;\"\n",
    "            \"Trusted_Connection=yes;\")\n",
    "conn = pyodbc.connect(cnxn_str)"
   ]
  },
  {
   "cell_type": "code",
   "execution_count": 4,
   "id": "a9859bf7",
   "metadata": {},
   "outputs": [
    {
     "data": {
      "text/plain": [
       "<pyodbc.Cursor at 0x1f641f19130>"
      ]
     },
     "execution_count": 4,
     "metadata": {},
     "output_type": "execute_result"
    }
   ],
   "source": [
    "cursor = conn.cursor()\n",
    "cursor.execute('SELECT * FROM dbo.LatestData')\n",
    "\n",
    "#for i in cursor:\n",
    "    #print(i)"
   ]
  },
  {
   "cell_type": "code",
   "execution_count": 5,
   "id": "a62b93ee",
   "metadata": {},
   "outputs": [],
   "source": [
    "#df = pd.read_sql_query('SELECT * FROM dbo.LatestData', conn)\n",
    "#print(df)"
   ]
  },
  {
   "cell_type": "code",
   "execution_count": 5,
   "id": "f458bb76",
   "metadata": {},
   "outputs": [],
   "source": [
    "from datetime import datetime, timedelta"
   ]
  },
  {
   "cell_type": "code",
   "execution_count": 6,
   "id": "1be00f6a",
   "metadata": {},
   "outputs": [
    {
     "data": {
      "text/plain": [
       "'2022-11-03'"
      ]
     },
     "execution_count": 6,
     "metadata": {},
     "output_type": "execute_result"
    }
   ],
   "source": [
    "from datetime import datetime\n",
    "datetime.today().strftime('%Y-%m-%d')\n"
   ]
  },
  {
   "cell_type": "code",
   "execution_count": 7,
   "id": "623f2f73",
   "metadata": {},
   "outputs": [],
   "source": [
    "date_N_days_ago = datetime.now() - timedelta(days=5)"
   ]
  },
  {
   "cell_type": "code",
   "execution_count": 8,
   "id": "c6dbdc1c",
   "metadata": {},
   "outputs": [],
   "source": [
    "t_date = datetime.today().strftime('%Y-%m-%d')"
   ]
  },
  {
   "cell_type": "code",
   "execution_count": 9,
   "id": "b900d3b9",
   "metadata": {},
   "outputs": [],
   "source": [
    "t_f_date = date_N_days_ago.strftime('%Y-%m-%d')"
   ]
  },
  {
   "cell_type": "code",
   "execution_count": 10,
   "id": "57eb978e",
   "metadata": {},
   "outputs": [
    {
     "data": {
      "text/plain": [
       "'2022-10-29'"
      ]
     },
     "execution_count": 10,
     "metadata": {},
     "output_type": "execute_result"
    }
   ],
   "source": [
    "t_f_date"
   ]
  },
  {
   "cell_type": "code",
   "execution_count": 12,
   "id": "6ed900f0",
   "metadata": {},
   "outputs": [
    {
     "data": {
      "text/plain": [
       "<pyodbc.Cursor at 0x23d851c9130>"
      ]
     },
     "execution_count": 12,
     "metadata": {},
     "output_type": "execute_result"
    }
   ],
   "source": [
    "#cursor.execute(\"SELECT * FROM dbo.SiteReading WHERE SiteID = 'IDKALKD'\")\n",
    "\n"
   ]
  },
  {
   "cell_type": "code",
   "execution_count": 14,
   "id": "2ae695fb",
   "metadata": {},
   "outputs": [
    {
     "data": {
      "text/plain": [
       "<pyodbc.Cursor at 0x23d851c9130>"
      ]
     },
     "execution_count": 14,
     "metadata": {},
     "output_type": "execute_result"
    }
   ],
   "source": [
    "#cursor.execute(\"SELECT RainfallSelected FROM dbo.SiteReading WHERE SiteID = 'IDKARKLM' AND Date > '2022-07-18'\")"
   ]
  },
  {
   "cell_type": "code",
   "execution_count": 11,
   "id": "551dde0d",
   "metadata": {},
   "outputs": [
    {
     "name": "stdout",
     "output_type": "stream",
     "text": [
      "Today date is:  2022-11-03\n"
     ]
    }
   ],
   "source": [
    "# Python program to get\n",
    "# current date\n",
    "  \n",
    "  \n",
    "# Import date class from datetime module\n",
    "from datetime import date\n",
    "  \n",
    "  \n",
    "# Returns the current local date\n",
    "today = date.today()\n",
    "print(\"Today date is: \", today)"
   ]
  },
  {
   "cell_type": "code",
   "execution_count": 12,
   "id": "18d5b976",
   "metadata": {},
   "outputs": [],
   "source": [
    "date_fd = today - timedelta(days=5)"
   ]
  },
  {
   "cell_type": "code",
   "execution_count": 13,
   "id": "e7799353",
   "metadata": {},
   "outputs": [
    {
     "data": {
      "text/plain": [
       "datetime.date(2022, 10, 29)"
      ]
     },
     "execution_count": 13,
     "metadata": {},
     "output_type": "execute_result"
    }
   ],
   "source": [
    "date_fd"
   ]
  },
  {
   "cell_type": "code",
   "execution_count": 16,
   "id": "d3db2554",
   "metadata": {},
   "outputs": [
    {
     "data": {
      "text/plain": [
       "<pyodbc.Cursor at 0x1f641f19130>"
      ]
     },
     "execution_count": 16,
     "metadata": {},
     "output_type": "execute_result"
    }
   ],
   "source": [
    "cursor.execute(\"SELECT RainfallSelected  FROM dbo.SiteReading WHERE SiteID = 'IDKARKLM' AND Date BETWEEN DATEADD(day, -5, GetDate()) AND DATEADD(day, -1, GetDate())\")"
   ]
  },
  {
   "cell_type": "code",
   "execution_count": 86,
   "id": "61470ffd",
   "metadata": {},
   "outputs": [
    {
     "name": "stdout",
     "output_type": "stream",
     "text": [
      "     RainfallSelected        Date\n",
      "0                 0.0  2022-11-02\n",
      "1                 0.0  2022-11-02\n",
      "2                 0.0  2022-11-02\n",
      "3                 0.0  2022-11-02\n",
      "4                 0.0  2022-11-02\n",
      "..                ...         ...\n",
      "130               0.0  2022-11-03\n",
      "131               0.0  2022-11-03\n",
      "132               0.0  2022-11-03\n",
      "133               0.0  2022-11-03\n",
      "134               1.2  2022-11-03\n",
      "\n",
      "[135 rows x 2 columns]\n"
     ]
    }
   ],
   "source": [
    "df = pd.read_sql_query(\"SELECT RainfallSelected,Date FROM dbo.SiteReading WHERE SiteID = 'IDKARKLM' AND Date >= DATEADD(day, -2, GetDate())\", conn)\n",
    "print(df)"
   ]
  },
  {
   "cell_type": "code",
   "execution_count": 91,
   "id": "f7eb0c61",
   "metadata": {},
   "outputs": [
    {
     "name": "stdout",
     "output_type": "stream",
     "text": [
      "     RainfallSelected        Date\n",
      "0                 0.0  2022-10-30\n",
      "1                 0.0  2022-10-30\n",
      "2                 0.0  2022-10-30\n",
      "3                 0.0  2022-10-30\n",
      "4                 0.0  2022-10-30\n",
      "..                ...         ...\n",
      "366               0.0  2022-11-02\n",
      "367               0.0  2022-11-02\n",
      "368               0.0  2022-11-02\n",
      "369               0.0  2022-11-02\n",
      "370               0.0  2022-11-02\n",
      "\n",
      "[371 rows x 2 columns]\n"
     ]
    }
   ],
   "source": [
    "df2 = pd.read_sql_query(\"SELECT RainfallSelected,Date  FROM dbo.SiteReading WHERE SiteID = 'IDKARKLM' AND Date BETWEEN DATEADD(day, -5, GetDate()) AND DATEADD(day, -1, GetDate())\", conn)\n",
    "print(df2)"
   ]
  },
  {
   "cell_type": "code",
   "execution_count": 89,
   "id": "781a66cc",
   "metadata": {},
   "outputs": [
    {
     "data": {
      "text/plain": [
       "<pyodbc.Cursor at 0x1f641f19130>"
      ]
     },
     "execution_count": 89,
     "metadata": {},
     "output_type": "execute_result"
    }
   ],
   "source": [
    "cursor.execute(\"SELECT RainfallSelected  FROM dbo.SiteReading WHERE SiteID = 'IDKPLVSL' AND Date BETWEEN DATEADD(day, -5, GetDate()) AND DATEADD(day, -1, GetDate())\")"
   ]
  },
  {
   "cell_type": "code",
   "execution_count": 97,
   "id": "7178bf39",
   "metadata": {},
   "outputs": [
    {
     "name": "stdout",
     "output_type": "stream",
     "text": [
      "Empty DataFrame\n",
      "Columns: [RainfallSelected, Date]\n",
      "Index: []\n"
     ]
    }
   ],
   "source": [
    "df_PLV = pd.read_sql_query(\"SELECT RainfallSelected,Date FROM dbo.SiteReading WHERE SiteID = 'IDKPLVSL' AND Date >= DATEADD(day, -2, GetDate())\", conn)\n",
    "print(df_PLV)"
   ]
  },
  {
   "cell_type": "code",
   "execution_count": 98,
   "id": "be7704a8",
   "metadata": {},
   "outputs": [
    {
     "name": "stdout",
     "output_type": "stream",
     "text": [
      "Empty DataFrame\n",
      "Columns: [RainfallSelected, Date]\n",
      "Index: []\n"
     ]
    }
   ],
   "source": [
    "df2_PLV = pd.read_sql_query(\"SELECT RainfallSelected,Date  FROM dbo.SiteReading WHERE SiteID = 'IDKPLVSL' AND Date BETWEEN DATEADD(day, -5, GetDate()) AND DATEADD(day, -1, GetDate())\", conn)\n",
    "print(df2_PLV)"
   ]
  },
  {
   "cell_type": "code",
   "execution_count": 99,
   "id": "5a24b795",
   "metadata": {},
   "outputs": [
    {
     "name": "stdout",
     "output_type": "stream",
     "text": [
      "     RainfallSelected        Date\n",
      "0                 0.0  2022-11-02\n",
      "1                 0.0  2022-11-02\n",
      "2                 0.0  2022-11-02\n",
      "3                 0.0  2022-11-02\n",
      "4                 0.0  2022-11-02\n",
      "..                ...         ...\n",
      "127               0.2  2022-11-03\n",
      "128               0.0  2022-11-03\n",
      "129               0.0  2022-11-03\n",
      "130               0.0  2022-11-03\n",
      "131               0.0  2022-11-03\n",
      "\n",
      "[132 rows x 2 columns]\n"
     ]
    }
   ],
   "source": [
    "df_IRMP = pd.read_sql_query(\"SELECT RainfallSelected,Date FROM dbo.SiteReading WHERE SiteID = 'IDKPCHAL' AND Date >= DATEADD(day, -2, GetDate())\", conn)\n",
    "print(df_IRMP)"
   ]
  },
  {
   "cell_type": "code",
   "execution_count": 100,
   "id": "a94f839a",
   "metadata": {},
   "outputs": [
    {
     "name": "stdout",
     "output_type": "stream",
     "text": [
      "     RainfallSelected        Date\n",
      "0                 0.0  2022-10-30\n",
      "1                 0.0  2022-10-30\n",
      "2                 0.0  2022-10-30\n",
      "3                 0.0  2022-10-30\n",
      "4                 0.0  2022-10-30\n",
      "..                ...         ...\n",
      "362               0.0  2022-11-02\n",
      "363               0.0  2022-11-02\n",
      "364               0.0  2022-11-02\n",
      "365               0.0  2022-11-02\n",
      "366               0.0  2022-11-02\n",
      "\n",
      "[367 rows x 2 columns]\n"
     ]
    }
   ],
   "source": [
    "df2_IRMP = pd.read_sql_query(\"SELECT RainfallSelected,Date  FROM dbo.SiteReading WHERE SiteID = 'IDKPCHAL' AND Date BETWEEN DATEADD(day, -5, GetDate()) AND DATEADD(day, -1, GetDate())\", conn)\n",
    "print(df2_IRMP)"
   ]
  },
  {
   "cell_type": "code",
   "execution_count": 20,
   "id": "56f9e92d",
   "metadata": {},
   "outputs": [
    {
     "data": {
      "text/plain": [
       "56.900000000000006"
      ]
     },
     "execution_count": 20,
     "metadata": {},
     "output_type": "execute_result"
    }
   ],
   "source": [
    "x = df2['RainfallSelected'].sum() \n",
    "x"
   ]
  },
  {
   "cell_type": "code",
   "execution_count": 21,
   "id": "291fb1a2",
   "metadata": {},
   "outputs": [
    {
     "data": {
      "text/plain": [
       "18.799999999999997"
      ]
     },
     "execution_count": 21,
     "metadata": {},
     "output_type": "execute_result"
    }
   ],
   "source": [
    "x_1D = df['RainfallSelected'].sum()\n",
    "x_1D"
   ]
  },
  {
   "cell_type": "code",
   "execution_count": 31,
   "id": "9036816d",
   "metadata": {},
   "outputs": [
    {
     "name": "stdout",
     "output_type": "stream",
     "text": [
      "71.60096999999999\n"
     ]
    }
   ],
   "source": [
    "y = (0.0313*x) + 69.82 \n",
    "print(y)"
   ]
  },
  {
   "cell_type": "code",
   "execution_count": 32,
   "id": "e86c69f3",
   "metadata": {},
   "outputs": [],
   "source": [
    "#in_geojson = 'C:/Users/KLUNADMIN/Downloads/Mob/LSM_AWS1.json'"
   ]
  },
  {
   "cell_type": "code",
   "execution_count": 73,
   "id": "6022d862",
   "metadata": {},
   "outputs": [],
   "source": [
    "m = leafmap.Map(center=[0, 0], zoom=2)\n",
    "\n",
    "\n",
    "\n",
    "style = {\n",
    "    \"stroke\": True,\n",
    "    \"color\": \"#007500\",\n",
    "    \"weight\": 2,\n",
    "    \"opacity\": 1,\n",
    "    \"fill\": True,\n",
    "    \"fillColor\": \"#00A300\",\n",
    "    \"fillOpacity\": 0.1,\n",
    "}\n",
    "\n",
    "hover_style = {\"fillOpacity\": 0.7}\n",
    "\n",
    "#m.add_geojson(in_geojson, layer_name=\"Idukki\", style=style, hover_style=hover_style)\n"
   ]
  },
  {
   "cell_type": "code",
   "execution_count": 74,
   "id": "1c699fd3",
   "metadata": {},
   "outputs": [],
   "source": [
    "Alakkode_H = 'Slip-Kerala/1.json'\n",
    "Alakkode_M = 'Slip-Kerala/2.json'\n",
    "Arakkulam_H = 'Slip-Kerala/9.json'\n",
    "Arakkulam_M = 'Slip-Kerala/10.json'\n",
    "Elappara_H = 'Slip-Kerala/11.json'\n",
    "Elappara_M = 'Slip-Kerala/12.json'\n",
    "Erattayar_H = 'Slip-Kerala/15.json'\n",
    "Erattayar_M = 'Slip-Kerala/16.json'\n",
    "Manjumala_H = 'Slip-Kerala/13.json'\n",
    "Manjumala_M = 'Slip-Kerala/14.json'\n",
    "Irumpupalam_H = 'Slip-Kerala/3.json'\n",
    "Irumpupalam_M = 'Slip-Kerala/4.json'\n",
    "Pallivasal_H = 'Slip-Kerala/5.json'\n",
    "Pallivasal_M = 'Slip-Kerala/6.json'\n",
    "Santhanpara_H = 'Slip-Kerala/7.json'\n",
    "Santhanpara_M = 'Slip-Kerala/8.json'"
   ]
  },
  {
   "cell_type": "code",
   "execution_count": 101,
   "id": "256b8716",
   "metadata": {},
   "outputs": [],
   "source": [
    "def green_alert():\n",
    "    style = {\n",
    "        \"stroke\": True,\n",
    "        \"color\": \"#007500\",\n",
    "        \"weight\": 2,\n",
    "        \"opacity\": 1,\n",
    "        \"fill\": True,\n",
    "        \"fillColor\": \"#007500\",\n",
    "        \"fillOpacity\": 0.1,\n",
    "    }\n",
    "    hover_style = {\"fillOpacity\": 0.7}\n",
    "    m.add_geojson(Arakkulam_H, layer_name=\"Arakkulam_H\", style=style, hover_style=hover_style)\n",
    "    m.add_geojson(Arakkulam_M, layer_name=\"Arakkulam_M\", style=style, hover_style=hover_style)\n",
    "    m.add_geojson(Irumpupalam_H, layer_name=\"Irumpupalam_H\", style=style, hover_style=hover_style)\n",
    "    m.add_geojson(Irumpupalam_M, layer_name=\"Irumpupalam_M\", style=style, hover_style=hover_style)\n",
    "    m.add_geojson(Pallivasal_H, layer_name=\"Pallivasal_H\", style=style, hover_style=hover_style)\n",
    "    m.add_geojson(Pallivasal_M, layer_name=\"Pallivasal_M\", style=style, hover_style=hover_style)"
   ]
  },
  {
   "cell_type": "code",
   "execution_count": 102,
   "id": "4193d83f",
   "metadata": {},
   "outputs": [],
   "source": [
    "def red_alert():\n",
    "    style_r = {\n",
    "        \"stroke\": True,\n",
    "        \"color\": \"#FFFF00\",\n",
    "        \"weight\": 2,\n",
    "        \"opacity\": 1,\n",
    "        \"fill\": True,\n",
    "        \"fillColor\": \"#FFFF00\",\n",
    "        \"fillOpacity\": 0.1,\n",
    "    }\n",
    "    hover_style = {\"fillOpacity\": 0.7}\n",
    "    m.add_geojson(Arakkulam_H, layer_name=\"Arakkulam_H\", style=style_r, hover_style=hover_style)\n",
    "    m.add_geojson(Arakkulam_M, layer_name=\"Arakkulam_M\", style=style_r, hover_style=hover_style)\n",
    "    m.add_geojson(Irumpupalam_H, layer_name=\"Irumpupalam_H\", style=style_r, hover_style=hover_style)\n",
    "    m.add_geojson(Irumpupalam_M, layer_name=\"Irumpupalam_M\", style=style_r, hover_style=hover_style)\n",
    "    m.add_geojson(Pallivasal_H, layer_name=\"Pallivasal_H\", style=style_r, hover_style=hover_style)\n",
    "    m.add_geojson(Pallivasal_M, layer_name=\"Pallivasal_M\", style=style_r, hover_style=hover_style)"
   ]
  },
  {
   "cell_type": "code",
   "execution_count": 103,
   "id": "f762b8ba",
   "metadata": {},
   "outputs": [],
   "source": [
    "def orange_alert():\n",
    "    style_r = {\n",
    "        \"stroke\": True,\n",
    "        \"color\": \"#FF0000\",\n",
    "        \"weight\": 2,\n",
    "        \"opacity\": 1,\n",
    "        \"fill\": True,\n",
    "        \"fillColor\": \"#FF0000\",\n",
    "        \"fillOpacity\": 0.1,\n",
    "    }\n",
    "    style_o = {\n",
    "        \"stroke\": True,\n",
    "        \"color\": \"#FFA500\",\n",
    "        \"weight\": 2,\n",
    "        \"opacity\": 1,\n",
    "        \"fill\": True,\n",
    "        \"fillColor\": \"#FFA500\",\n",
    "        \"fillOpacity\": 0.1,\n",
    "    }\n",
    "    hover_style = {\"fillOpacity\": 0.7}\n",
    "    m.add_geojson(Arakkulam_H, layer_name=\"Arakkulam_H\", style=style_r, hover_style=hover_style)\n",
    "    m.add_geojson(Arakkulam_M, layer_name=\"Arakkulam_M\", style=style_o, hover_style=hover_style)\n",
    "    m.add_geojson(Irumpupalam_H, layer_name=\"Irumpupalam_H\", style=style_r, hover_style=hover_style)\n",
    "    m.add_geojson(Irumpupalam_M, layer_name=\"Irumpupalam_M\", style=style_o, hover_style=hover_style)\n",
    "    m.add_geojson(Pallivasal_H, layer_name=\"Pallivasal_H\", style=style_r, hover_style=hover_style)\n",
    "    m.add_geojson(Pallivasal_M, layer_name=\"Pallivasal_M\", style=style_o, hover_style=hover_style)\n",
    "    "
   ]
  },
  {
   "cell_type": "code",
   "execution_count": 104,
   "id": "80e0f65d",
   "metadata": {},
   "outputs": [],
   "source": [
    "if (x_1D >= y):\n",
    "    red_alert()\n",
    "elif ((x_1D >= (y*0.75)) and (x_1D < y)):\n",
    "    orange_alert()\n",
    "elif ((x_1D <= (y*0.5))):\n",
    "    green_alert()\n",
    "else:\n",
    "    green_alert()"
   ]
  },
  {
   "cell_type": "code",
   "execution_count": 105,
   "id": "d5fdc524",
   "metadata": {},
   "outputs": [
    {
     "data": {
      "application/vnd.jupyter.widget-view+json": {
       "model_id": "5bb06fe9631e4b79a069971f83710157",
       "version_major": 2,
       "version_minor": 0
      },
      "text/plain": [
       "Map(bottom=247843.0, center=[9.974937058598, 76.79929669771074], controls=(ZoomControl(options=['position', 'z…"
      ]
     },
     "metadata": {},
     "output_type": "display_data"
    }
   ],
   "source": [
    "m"
   ]
  },
  {
   "cell_type": "code",
   "execution_count": null,
   "id": "cf076aaa",
   "metadata": {},
   "outputs": [],
   "source": []
  }
 ],
 "metadata": {
  "kernelspec": {
   "display_name": "Python 3 (ipykernel)",
   "language": "python",
   "name": "python3"
  },
  "language_info": {
   "codemirror_mode": {
    "name": "ipython",
    "version": 3
   },
   "file_extension": ".py",
   "mimetype": "text/x-python",
   "name": "python",
   "nbconvert_exporter": "python",
   "pygments_lexer": "ipython3",
   "version": "3.9.12"
  }
 },
 "nbformat": 4,
 "nbformat_minor": 5
}
