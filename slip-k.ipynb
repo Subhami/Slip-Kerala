#Alakkode
import requests
import hmac
import hashlib
import base64
from datetime import datetime, timezone
import json
import random
import urllib.parse

import ee
import geemap

ee.Initialize()
Map = geemap.Map()

Shapefile = ee.FeatureCollection("users/subhamimohan286/LSM_AWS1")

#Map.centerObject(Shapefile, 7)
Map.setCenter(76.9528, 9.8584, 9.5)
#ALAKKODE
def green_alertALK():
    tn = ee.FeatureCollection('users/subhamimohan286/LSM_AWS1').filter(ee.Filter.eq("Name", 'Alakkode Block Panchayat'))
    empty = ee.Image().byte()

    palette = ['green']

    filledAndOutlines = empty.paint(tn, 'Suscpt')

    Map.addLayer(
      filledAndOutlines,
      {
        'palette': palette,
        'min': 0,
        'max': len(palette)

      },
      'ALKKODE-G'
    )


def yellow_alertALK():
    tn = ee.FeatureCollection('users/subhamimohan286/LSM_AWS1').filter(ee.Filter.eq("Name", 'Alakkode Block Panchayat'))

    empty = ee.Image().byte()

    palette = [ 'yellow','green']

    filledAndOutlines = empty.paint(tn, 'Suscpt')

    Map.addLayer(
      filledAndOutlines,
      {
        'palette': palette,
        'min': 1,
        'max': len(palette),
        'width' : 0

      },
      'ALAKKODE-Y'
    )



def orange_alertALK():

    tn = ee.FeatureCollection('users/subhamimohan286/LSM_AWS1').filter(ee.Filter.eq("Name", 'Alakkode Block Panchayat'))
    empty = ee.Image().byte()
    palette = [ 'orange','yellow']
    filledAndOutlines = empty.paint(tn, 'Suscpt')

    Map.addLayer(
      filledAndOutlines,
      {
        'palette': palette,
        'min': 0,
        'max': len(palette)

      },
      'ALAKKODE-O'
    )



def red_alertALK():
    tn = ee.FeatureCollection('users/subhamimohan286/LSM_AWS1').filter(ee.Filter.eq("Name", 'Alakkode Block Panchayat'))

    empty = ee.Image().byte()
    palette = [ 'orange','red']

    filledAndOutlines = empty.paint(tn, 'Suscpt')

    Map.addLayer(
        filledAndOutlines,
        {
          'palette': palette,
          'min': 0,
          'max': len(palette)

        },
        'ALAKKODE-R'
    )
    
    
    
#ARAKKULAM
def green_alertARK():
    tn = ee.FeatureCollection('users/subhamimohan286/LSM_AWS1').filter(ee.Filter.eq("Name", 'Village Office Arakulam'))
    empty = ee.Image().byte()

    palette = ['green']

    filledAndOutlines = empty.paint(tn, 'Suscpt')

    Map.addLayer(
      filledAndOutlines,
      {
        'palette': palette,
        'min': 0,
        'max': len(palette)

      },
      'ARAKKULAM-G'
    )


def yellow_alertARK():
    tn = ee.FeatureCollection('users/subhamimohan286/LSM_AWS1').filter(ee.Filter.eq("Name", 'Village Office Arakulam'))

    empty = ee.Image().byte()

    palette = [ 'orange','yellow']

    filledAndOutlines = empty.paint(tn, 'Suscpt')

    Map.addLayer(
      filledAndOutlines,
      {
        'palette': palette,
        'min': 1,
        'max': len(palette),
        'width' : 0

      },
      'ARAKKULAM-Y'
    )



def orange_alertARK():

    tn = ee.FeatureCollection('users/subhamimohan286/LSM_AWS1').filter(ee.Filter.eq("Name", 'Village Office Arakulam'))
    empty = ee.Image().byte()
    palette = [ 'orange','red']
    filledAndOutlines = empty.paint(tn, 'Suscpt')

    Map.addLayer(
      filledAndOutlines,
      {
        'palette': palette,
        'min': 0,
        'max': len(palette)

      },
      'ARAKKULAM-O'
    )




def red_alertARK():
    tn = ee.FeatureCollection('users/subhamimohan286/LSM_AWS1').filter(ee.Filter.eq("Name", 'Village Office Arakulam'))

    empty = ee.Image().byte()
    palette = [ 'red']

    filledAndOutlines = empty.paint(tn, 'Suscpt')

    Map.addLayer(
        filledAndOutlines,
        {
          'palette': palette,
          'min': 0,
          'max': len(palette)

        },
        'ARAKKULAM-R'
    )


#MANJUMALA
def green_alertMMLA():
    tn = ee.FeatureCollection('users/subhamimohan286/LSM_AWS1').filter(ee.Filter.eq("Name", 'Village Office Manjumala '))
    empty = ee.Image().byte()

    palette = ['green']

    filledAndOutlines = empty.paint(tn, 'Suscpt')

    Map.addLayer(
      filledAndOutlines,
      {
        'palette': palette,
        'min': 0,
        'max': len(palette)

      },
      'MANJUMALA-G'
    )


def yellow_alertMMLA():
    tn = ee.FeatureCollection('users/subhamimohan286/LSM_AWS1').filter(ee.Filter.eq("Name", 'Village Office Manjumala '))

    empty = ee.Image().byte()

    palette = [ 'orange','yellow']

    filledAndOutlines = empty.paint(tn, 'Suscpt')

    Map.addLayer(
      filledAndOutlines,
      {
        'palette': palette,
        'min': 1,
        'max': len(palette),
        'width' : 0

      },
      'MANJUMALA-Y'
    )


def orange_alertMMLA():

    tn = ee.FeatureCollection('users/subhamimohan286/LSM_AWS1').filter(ee.Filter.eq("Name", 'Village Office Manjumala '))
    empty = ee.Image().byte()
    palette = [ 'orange','red']
    filledAndOutlines = empty.paint(tn, 'Suscpt')

    Map.addLayer(
      filledAndOutlines,
      {
        'palette': palette,
        'min': 0,
        'max': len(palette)

      },
      'MANJUMALA-O'
    )

def red_alertMMLA():
    tn = ee.FeatureCollection('users/subhamimohan286/LSM_AWS1').filter(ee.Filter.eq("Name", 'Village Office Manjumala '))

    empty = ee.Image().byte()
    palette = [ 'red']

    filledAndOutlines = empty.paint(tn, 'Suscpt')

    Map.addLayer(
        filledAndOutlines,
        {
          'palette': palette,
          'min': 0,
          'max': len(palette)

        },
        'MANJUMALA-R'
    )
    
    
#ELAPARA
def green_alertEPRA():
    tn = ee.FeatureCollection('users/subhamimohan286/LSM_AWS1').filter(ee.Filter.eq("Name", 'Village Office Elappara'))
    empty = ee.Image().byte()

    palette = ['green']

    filledAndOutlines = empty.paint(tn, 'Suscpt')

    Map.addLayer(
      filledAndOutlines,
      {
        'palette': palette,
        'min': 0,
        'max': len(palette)

      },
      'ELAPPARA-G'
    )


def yellow_alertEPRA():
    tn = ee.FeatureCollection('users/subhamimohan286/LSM_AWS1').filter(ee.Filter.eq("Name", 'Village Office Elappara'))

    empty = ee.Image().byte()

    palette = [ 'orange','yellow']

    filledAndOutlines = empty.paint(tn, 'Suscpt')

    Map.addLayer(
      filledAndOutlines,
      {
        'palette': palette,
        'min': 1,
        'max': len(palette),
        'width' : 0

      },
      'ELAPPARA-Y'
    )


def orange_alertEPRA():

    tn = ee.FeatureCollection('users/subhamimohan286/LSM_AWS1').filter(ee.Filter.eq("Name", 'Village Office Elappara'))
    empty = ee.Image().byte()
    palette = [ 'orange','red']
    filledAndOutlines = empty.paint(tn, 'Suscpt')

    Map.addLayer(
      filledAndOutlines,
      {
        'palette': palette,
        'min': 0,
        'max': len(palette)

      },
      'ELAPPARA-O'
    )

def red_alertEPRA():
    tn = ee.FeatureCollection('users/subhamimohan286/LSM_AWS1').filter(ee.Filter.eq("Name", 'Village Office Elappara'))

    empty = ee.Image().byte()
    palette = [ 'red']

    filledAndOutlines = empty.paint(tn, 'Suscpt')

    Map.addLayer(
        filledAndOutlines,
        {
          'palette': palette,
          'min': 0,
          'max': len(palette)

        },
        'ELAPPARA-R'
    )

#ERATTAYAR
def green_alertERTR():
    tn = ee.FeatureCollection('users/subhamimohan286/LSM_AWS1').filter(ee.Filter.eq("Name", 'Villege Office Erattayar'))
    empty = ee.Image().byte()

    palette = ['green']

    filledAndOutlines = empty.paint(tn, 'Suscpt')

    Map.addLayer(
      filledAndOutlines,
      {
        'palette': palette,
        'min': 0,
        'max': len(palette)

      },
      'ERATTAYAR-G'
    )


def yellow_alertERTR():
    tn = ee.FeatureCollection('users/subhamimohan286/LSM_AWS1').filter(ee.Filter.eq("Name", 'Villege Office Erattayar'))

    empty = ee.Image().byte()

    palette = [ 'orange','yellow']

    filledAndOutlines = empty.paint(tn, 'Suscpt')

    Map.addLayer(
      filledAndOutlines,
      {
        'palette': palette,
        'min': 1,
        'max': len(palette),
        'width' : 0

      },
      'ERATTAYAR-Y'
    )


def orange_alertERTR():

    tn = ee.FeatureCollection('users/subhamimohan286/LSM_AWS1').filter(ee.Filter.eq("Name", 'Villege Office Erattayar'))
    empty = ee.Image().byte()
    palette = [ '#F0FF00','red']
    filledAndOutlines = empty.paint(tn, 'Suscpt')

    Map.addLayer(
      filledAndOutlines,
      {
        'palette': palette,
        'min': 0,
        'max': len(palette)

      },
      'ERATTAYAR-O'
    )

def red_alertERTR():
    tn = ee.FeatureCollection('users/subhamimohan286/LSM_AWS1').filter(ee.Filter.eq("Name", 'Villege Office Erattayar'))

    empty = ee.Image().byte()
    palette = [ 'red']

    filledAndOutlines = empty.paint(tn, 'Suscpt')

    Map.addLayer(
        filledAndOutlines,
        {
          'palette': palette,
          'min': 0,
          'max': len(palette)

        },
        'ERATTAYAR-R'
    )

#PAZHAMPALLICHAL
def green_alertPCHAL():
    tn = ee.FeatureCollection('users/subhamimohan286/LSM_AWS1').filter(ee.Filter.eq("Name", 'Irumpupalam'))
    empty = ee.Image().byte()

    palette = ['green']

    filledAndOutlines = empty.paint(tn, 'Suscpt')

    Map.addLayer(
      filledAndOutlines,
      {
        'palette': palette,
        'min': 0,
        'max': len(palette)

      },
      'IRUMPUPALAM-G'
    )


def yellow_alertPCHAL():
    tn = ee.FeatureCollection('users/subhamimohan286/LSM_AWS1').filter(ee.Filter.eq("Name", 'Irumpupalam'))

    empty = ee.Image().byte()

    palette = [ 'orange','yellow']

    filledAndOutlines = empty.paint(tn, 'Suscpt')

    Map.addLayer(
      filledAndOutlines,
      {
        'palette': palette,
        'min': 1,
        'max': len(palette),
        'width' : 0

      },
      'IRUMPUPALAM-Y'
    )


def orange_alertPCHAL():

    tn = ee.FeatureCollection('users/subhamimohan286/LSM_AWS1').filter(ee.Filter.eq("Name", 'Irumpupalam'))
    empty = ee.Image().byte()
    palette = [ 'orange','red']
    filledAndOutlines = empty.paint(tn, 'Suscpt')

    Map.addLayer(
      filledAndOutlines,
      {
        'palette': palette,
        'min': 0,
        'max': len(palette)

      },
      'IRUMPUPALAM-O'
    )

def red_alertPCHAL():
    tn = ee.FeatureCollection('users/subhamimohan286/LSM_AWS1').filter(ee.Filter.eq("Name", 'Irumpupalam'))

    empty = ee.Image().byte()
    palette = [ 'red']

    filledAndOutlines = empty.paint(tn, 'Suscpt')

    Map.addLayer(
        filledAndOutlines,
        {
          'palette': palette,
          'min': 0,
          'max': len(palette)

        },
        'IRUMPUPALAM-R'
    )
    
#PALLIVASAL
def green_alertPVSL():
    tn = ee.FeatureCollection('users/subhamimohan286/LSM_AWS1').filter(ee.Filter.eq("Name", 'Pallivasal'))
    empty = ee.Image().byte()

    palette = ['green']

    filledAndOutlines = empty.paint(tn, 'Suscpt')

    Map.addLayer(
      filledAndOutlines,
      {
        'palette': palette,
        'min': 0,
        'max': len(palette)

      },
      'PALLIVASAL-G'
    )


def yellow_alertPVSL():
    tn = ee.FeatureCollection('users/subhamimohan286/LSM_AWS1').filter(ee.Filter.eq("Name", 'Pallivasal'))

    empty = ee.Image().byte()

    palette = [ 'yellow','green']

    filledAndOutlines = empty.paint(tn, 'Suscpt')

    Map.addLayer(
      filledAndOutlines,
      {
        'palette': palette,
        'min': 1,
        'max': len(palette),
        'width' : 0

      },
      'PALLIVASAL-Y'
    )


def orange_alertPVSL():

    tn = ee.FeatureCollection('users/subhamimohan286/LSM_AWS1').filter(ee.Filter.eq("Name", 'Pallivasal'))
    empty = ee.Image().byte()
    palette = [ 'orange','yellow']
    filledAndOutlines = empty.paint(tn, 'Suscpt')

    Map.addLayer(
      filledAndOutlines,
      {
        'palette': palette,
        'min': 0,
        'max': len(palette)

      },
      'PALLIVASAL-O'
    )

def red_alertPVSL():
    tn = ee.FeatureCollection('users/subhamimohan286/LSM_AWS1').filter(ee.Filter.eq("Name", 'Pallivasal'))

    empty = ee.Image().byte()
    palette = [ 'red','orange']

    filledAndOutlines = empty.paint(tn, 'Suscpt')

    Map.addLayer(
        filledAndOutlines,
        {
          'palette': palette,
          'min': 0,
          'max': len(palette)

        },
        'PALLIVASAL-R'
    )
    
#SANTHANPARA
def green_alertSPRA():
    tn = ee.FeatureCollection('users/subhamimohan286/LSM_AWS1').filter(ee.Filter.eq("Name", 'Santhanpara'))
    empty = ee.Image().byte()

    palette = ['green']

    filledAndOutlines = empty.paint(tn, 'Suscpt')

    Map.addLayer(
      filledAndOutlines,
      {
        'palette': palette,
        'min': 0,
        'max': len(palette)

      },
      'SANTHANPARA-G'
    )


def yellow_alertSPRA():
    tn = ee.FeatureCollection('users/subhamimohan286/LSM_AWS1').filter(ee.Filter.eq("Name", 'Santhanpara'))

    empty = ee.Image().byte()

    palette = [ 'orange','yellow']

    filledAndOutlines = empty.paint(tn, 'Suscpt')

    Map.addLayer(
      filledAndOutlines,
      {
        'palette': palette,
        'min': 1,
        'max': len(palette),
        'width' : 0

      },
      'SANTHANPARA-Y'
    )


def orange_alertSPRA():

    tn = ee.FeatureCollection('users/subhamimohan286/LSM_AWS1').filter(ee.Filter.eq("Name", 'Santhanpara'))
    empty = ee.Image().byte()
    palette = [ 'orange','red']
    filledAndOutlines = empty.paint(tn, 'Suscpt')

    Map.addLayer(
      filledAndOutlines,
      {
        'palette': palette,
        'min': 0,
        'max': len(palette)

      },
      'SANTHANPARA-O'
    )

def red_alertSPRA():
    tn = ee.FeatureCollection('users/subhamimohan286/LSM_AWS1').filter(ee.Filter.eq("Name", 'Santhanpara'))

    empty = ee.Image().byte()
    palette = [ 'red']

    filledAndOutlines = empty.paint(tn, 'Suscpt')

    Map.addLayer(
        filledAndOutlines,
        {
          'palette': palette,
          'min': 0,
          'max': len(palette)

        },
        'SANTHANPARA-R'
    )



def get_rainfall_cumulative(request_payload1, payload1):
    # Define the request details
    BASE_URL='http://localhost:7083/'
    http_method='POST'
    app_id='047bbd45-4552-4d87-a6a9-f85cf1303347'
    nonce=random.randint(1, 105000)
    nonce1 = nonce
    if(nonce==nonce1):
        nonce=random.randint(1, 105000)
    request_payload=request_payload1
    request_uri1='api/SiteReading'
    private_secret_key='3taaIny0ByZNI8qljnu6v0borzsCO5F/Msj2chKkgrA='
    
    # Calculate the request timestamp
    startdatetime=datetime(2023, 1, 1, 0, 0, 0, tzinfo=timezone.utc)
    currentdatetime=datetime.now(timezone.utc)
    timediffseconds= (currentdatetime-startdatetime).total_seconds()
    request_timestamp=str(int(timediffseconds))
 
    #we need to convert into string format
    url=urllib.parse.quote(BASE_URL+request_uri1, safe='')
    request_uri=url.lower()

    # Hash the request payload using MD5 and convert it to a base64 string
    # Convert JSON string to list of integers
    data=json.loads(request_payload)
    site_id='SiteID='+data['SiteID']
    number_of_days='NumberOfDays='+str(data['NumberOfDays'] *1)
    result=site_id+'&'+number_of_days
    int_list= [ord(c) for c in result]

    #Here we are doing md5 hashing
    bytes_data=bytes(int_list)
    hash_object=hashlib.md5(bytes_data)
    hex_digest=hash_object.hexdigest()
    byte_digest=bytes.fromhex(hex_digest)
    payload_base64=base64.b64encode(byte_digest).decode('utf-8')

    # Build the signature raw data
    signature_raw_data1=f"{app_id}{http_method}{request_uri}{request_timestamp}{nonce}{payload_base64}"

    #To convert APIKey into
    secret_key_byte_array=bytes(base64.b64decode(private_secret_key))
    private_secret_key=list(secret_key_byte_array)

    #To convert signaturerawdata into bytes without spaces
    signature_raw_data2=signature_raw_data1.replace(" ", "")
    signature_raw_data= [ord(c) for c in signature_raw_data2]
    
    # Generate the signature hash using SHA256 and the private secret key
    signature1=base64.b64encode(hmac.new(bytes(private_secret_key), bytes(signature_raw_data), digestmod=hashlib.sha256).digest())
    signature_hash=signature1.decode('utf-8')

    # Build the Authorization header
    authorization_header=f"hmacauth {app_id}:{signature_hash}:{nonce}:{request_timestamp}"

    # Define the request headers
    headers= { 'Authorization': authorization_header}

    # Define the request payload
    payload= payload1

    # Send the request
    response=requests.post('http://localhost:7083/api/SiteReading', headers=headers, data=payload)
    
    # Print the response
    #print(response.text)

    # Parse the response JSON
    response_data = response.json()

    # Extract the value of rainfallcumulative from the response
    #rainfall_cumulative1d = response_data[0]['RainfallCumulative']

    # Print the value
    #print(rainfall_cumulative1d)
    
    # Parse the response JSON
    #response_data = response.json()

    # Extract the value of rainfallcumulative from the response
    rainfall_cumulative = response_data[0]['RainfallCumulative']
     
    
    if (rainfall_cumulative == -1):
        rainfall_cumulative = 0

    # Return the rainfall cumulative value
    return rainfall_cumulative

#Alakkode-1
payload1= { "SiteID":"IDKALKD", "NumberOfDays":1}
request_payload1='{"SiteID": "IDKALKD", "NumberOfDays": 1}'
rc1_alkd = get_rainfall_cumulative(request_payload1, payload1)
#print('Alakkode')
#print("1-day:",rc1_alkd)

payload15= { "SiteID":"IDKALKD", "NumberOfDays":6}
request_payload15='{"SiteID": "IDKALKD", "NumberOfDays": 6}'
rc15_alkd = get_rainfall_cumulative(request_payload15, payload15)
#print("5-day:",rc15_alkd)
y1 = (0.0212*(rc15_alkd-rc1_alkd)) + 51.0556
#print("Threshold:",y1)


if (rc1_alkd >= y1):
    red_alertALK()
elif ((rc1_alkd >= (y1*0.75)) and (rc1_alkd < y1)):
    orange_alertALK()
elif ((rc1_alkd <= (y1*0.5))):
    green_alertALK()
else:
    green_alertALK()


#Arakkulam-2
payload2= { "SiteID":"IDKARKLM", "NumberOfDays":1}
request_payload2='{"SiteID": "IDKARKLM", "NumberOfDays": 1}'
rc2_alkd = get_rainfall_cumulative(request_payload2, payload2)
#print('Arakkulam')
#print("1-day:",rc2_alkd)

payload25= { "SiteID":"IDKARKLM", "NumberOfDays":6}
request_payload25='{"SiteID": "IDKARKLM", "NumberOfDays": 6}'
rc25_alkd = get_rainfall_cumulative(request_payload25, payload25)
#print("5-day:",rc25_alkd)
y2 = (0.0212*(rc25_alkd-rc2_alkd)) + 51.0556
#print("Threshold:",y2)

if (rc2_alkd >= y2):
    red_alertARK()
elif ((rc2_alkd >= (y2*0.75)) and (rc2_alkd < y2)):
    orange_alertARK()
elif ((rc2_alkd <= (y2*0.5))):
    green_alertARK()
else:
    green_alertARK()

#Manjumala-3
payload3= { "SiteID":"IDKMMALA", "NumberOfDays":1}
request_payload3='{"SiteID": "IDKMMALA", "NumberOfDays": 1}'
rc3_alkd = get_rainfall_cumulative(request_payload3, payload3)
#print('Manjumala')
#print("1-day:",rc3_alkd)

payload35= { "SiteID":"IDKMMALA", "NumberOfDays":6}
request_payload35='{"SiteID": "IDKMMALA", "NumberOfDays": 6}'
rc35_alkd = get_rainfall_cumulative(request_payload35, payload35)
#print("5-day:",rc35_alkd)
y3 = (0.0212*(rc35_alkd-rc3_alkd)) + 51.0556
#print("Threshold:",y3)

if (rc3_alkd >= y3):
    red_alertMMLA()
elif ((rc3_alkd >= (y3*0.75)) and (rc3_alkd < y3)):
    orange_alertMMLA()
elif ((rc3_alkd <= (y3*0.5))):
    green_alertMMLA()
else:
    green_alertMMLA()
    
#Elapara-4
payload4= { "SiteID":"IDKELPRA", "NumberOfDays":1}
request_payload4='{"SiteID": "IDKELPRA", "NumberOfDays": 1}'
rc4_alkd = get_rainfall_cumulative(request_payload4, payload4)
#print('Elapara')
#print("1-day:",rc4_alkd)

payload45= { "SiteID":"IDKELPRA", "NumberOfDays":6}
request_payload45='{"SiteID": "IDKELPRA", "NumberOfDays": 6}'
rc45_alkd = get_rainfall_cumulative(request_payload45, payload45)
#print("5-day:",rc45_alkd)
y4 = (0.0212*(rc45_alkd-rc4_alkd)) + 51.0556
#print("Threshold:",y4)

if (rc4_alkd >= y4):
    red_alertEPRA()
elif ((rc4_alkd >= (y4*0.75)) and (rc4_alkd < y4)):
    orange_alertEPRA()
elif ((rc4_alkd <= (y4*0.5))):
    green_alertEPRA()
else:
    green_alertEPRA()

#Erattayar-5
payload5= { "SiteID":"IDKERTYR", "NumberOfDays":1}
request_payload5='{"SiteID": "IDKERTYR", "NumberOfDays": 1}'
rc5_alkd = get_rainfall_cumulative(request_payload5, payload5)
#print('Erattayar')
#print("1-day:",rc5_alkd)

payload55= { "SiteID":"IDKERTYR", "NumberOfDays":6}
request_payload55='{"SiteID": "IDKERTYR", "NumberOfDays": 6}'
rc55_alkd = get_rainfall_cumulative(request_payload55, payload55)
#print("5-day:",rc55_alkd)
y5 = (0.0212*(rc55_alkd-rc5_alkd)) + 51.0556
#print("Threshold:",y5)

if (rc5_alkd >= y5):
    red_alertERTR()
elif ((rc5_alkd >= (y5*0.75)) and (rc5_alkd < y5)):
    orange_alertERTR()
elif ((rc5_alkd <= (y5*0.5))):
    green_alertERTR()
else:
    green_alertERTR()


    
#Pazhampillychal-6
payload6= { "SiteID":"IDKPCHAL", "NumberOfDays":1}
request_payload6='{"SiteID": "IDKPCHAL", "NumberOfDays": 1}'
rc6_alkd = get_rainfall_cumulative(request_payload6, payload6)
#print('Pazhampallichal')
#print("1-day::",rc6_alkd)

payload65= { "SiteID":"IDKPCHAL", "NumberOfDays":6}
request_payload65='{"SiteID": "IDKPCHAL", "NumberOfDays": 6}'
rc65_alkd = get_rainfall_cumulative(request_payload65, payload65)
#print("5-day:",rc65_alkd)
y6 = (0.0212*(rc65_alkd-rc6_alkd)) + 51.0556
#print("Threshold:",y6)

if (rc6_alkd >= y6):
    red_alertPCHAL()
elif ((rc6_alkd >= (y6*0.75)) and (rc6_alkd < y6)):
    orange_alertPCHAL()
elif ((rc6_alkd <= (y6*0.5))):
    green_alertPCHAL()
else:
    green_alertPCHAL()
    

#Pallivasal-7
payload7= { "SiteID":"IDKPLVSL", "NumberOfDays":1}
request_payload7='{"SiteID": "IDKPLVSL", "NumberOfDays": 1}'
rc7_alkd = get_rainfall_cumulative(request_payload7, payload7)
#print('Pallivasal')
#print("1-day:",rc7_alkd)

payload75= { "SiteID":"IDKPLVSL", "NumberOfDays":6}
request_payload75='{"SiteID": "IDKPLVSL", "NumberOfDays": 6}'
rc75_alkd = get_rainfall_cumulative(request_payload75, payload75)
#print("5-day:",rc75_alkd)
y7 = (0.0212*(rc75_alkd-rc7_alkd)) + 51.0556
#y7 = (0.0212*(rc75_alkd)) + 51.0556
#print("Threshold:",y7)

if (rc7_alkd >= y7):
    red_alertPVSL()
elif ((rc7_alkd >= (y7*0.75)) and (rc7_alkd < y7)):
    red_alertPVSL()
elif ((rc7_alkd >= (y7*0.5)) and (rc7_alkd < (y7*0.75))):
    orange_alertPVSL()
elif ((rc7_alkd >= (y7*0.25)) and (rc7_alkd < (y7*0.5))):
    yellow_alertPVSL()
else:
    green_alertPVSL()
    
#Santhanpara-8
payload8= { "SiteID":"IDKSPARA", "NumberOfDays":1}
request_payload8='{"SiteID": "IDKSPARA", "NumberOfDays": 1}'
rc8_alkd = get_rainfall_cumulative(request_payload8, payload8)
#print('Santhanpara')
#print("1-day:",rc8_alkd)

payload85= { "SiteID":"IDKSPARA", "NumberOfDays":6}
request_payload85='{"SiteID": "IDKSPARA", "NumberOfDays": 6}'
rc85_alkd = get_rainfall_cumulative(request_payload85, payload85)
#print("5-day:",rc85_alkd)
y8 = (0.0212*(rc85_alkd-rc85_alkd)) + 51.0556
#print("Threshold:",y8)

if (rc8_alkd >= y8):
    red_alertSPRA()
elif ((rc8_alkd >= (y8*0.75)) and (rc8_alkd < y8)):
    orange_alertSPRA()
elif ((rc8_alkd <= (y8*0.5))):
    green_alertSPRA()
else:
    green_alertSPRA()
    
    
# Collect the data
data = [
    ["Alakkode        ", "1-day    ", rc1_alkd],
    ["                ", "5-day    ", rc15_alkd],
    ["                ", "Threshold", y1],
    ["Arakkulam       ", "1-day    ", rc2_alkd],
    ["                ", "5-day    ", rc25_alkd],
    ["                ", "Threshold", y2],
    ["Manjumala       ", "1-day    ", rc3_alkd],
    ["                ", "5-day    ", rc35_alkd],
    ["                ", "Threshold", y3],
    ["Elappara        ", "1-day    ", rc4_alkd],
    ["                ", "5-day    ", rc45_alkd],
    ["                ", "Threshold", y4],
    ["Erattayar       ", "1-day    ", rc5_alkd],
    ["                ", "5-day    ", rc55_alkd],
    ["                ", "Threshold", y5],
    ["Pazhampalllichal", "1-day    ", rc6_alkd],
    ["                ", "5-day    ", rc65_alkd],
    ["                ", "Threshold", y6],
    ["Pallivasal      ", "1-day    ", rc7_alkd],
    ["                ", "5-day    ", rc75_alkd],
    ["                ", "Threshold", y7],
    ["Santhanpara     ", "1-day    ", rc8_alkd],
    ["                ", "5-day    ", rc85_alkd],
    ["                ", "Threshold", y8],

]

# ... Your existing code ...
# Calculate the maximum width for each column
col_widths = [max(len(str(item)) for item in column) for column in zip(*data)]

# Print the table header with bold column headers
bold_headers = ["\033[1m" + header + "\033[0m" for header in ["    Location    ", "Time Frame", "Value"]]
print(" | ".join(item.ljust(width) for item, width in zip(bold_headers, col_widths)))

# Print the table separator
print("-+-".join("-" * width for width in col_widths))

# Print the table rows
for row in data:
    formatted_row = [("\033[1m" + str(item) + "\033[0m" if column_idx < 3 else str(item)).ljust(width)
                     for column_idx, (item, width) in enumerate(zip(row, col_widths))]
    print(" | ".join(formatted_row))



Map
